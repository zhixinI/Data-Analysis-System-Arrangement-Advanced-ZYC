{
 "cells": [
  {
   "cell_type": "code",
   "execution_count": 22,
   "metadata": {
    "scrolled": true
   },
   "outputs": [],
   "source": [
    "import warnings\n",
    "warnings.filterwarnings('ignore')\n",
    "import pandas as pd\n",
    "import numpy as np\n",
    "import matplotlib.pyplot as plt\n",
    "import matplotlib.style as style\n",
    "import seaborn as sns\n",
    "%matplotlib inline\n",
    "style.use('fivethirtyeight')\n",
    "plt.rcParams['figure.figsize'] = (8,4)\n",
    "plt.rcParams['font.family'] = ['Arial Unicode MS'] \n",
    "plt.rcParams['axes.unicode_minus'] = False"
   ]
  },
  {
   "cell_type": "code",
   "execution_count": 9,
   "metadata": {},
   "outputs": [
    {
     "name": "stdout",
     "output_type": "stream",
     "text": [
      "<class 'pandas.core.frame.DataFrame'>\n",
      "Int64Index: 16210 entries, 0 to 16209\n",
      "Data columns (total 8 columns):\n",
      "城区        16210 non-null object\n",
      "卧室数       16210 non-null int64\n",
      "客厅数       16210 non-null int64\n",
      "房屋面积      16210 non-null float64\n",
      "楼层        16210 non-null object\n",
      "是否临近地铁    16210 non-null int64\n",
      "是否学区房     16210 non-null int64\n",
      "单位面积价格    16210 non-null int64\n",
      "dtypes: float64(1), int64(5), object(2)\n",
      "memory usage: 1.1+ MB\n"
     ]
    }
   ],
   "source": [
    "bj = pd.read_csv('../data/beijing.csv',) \n",
    "bj.info()"
   ]
  },
  {
   "cell_type": "markdown",
   "metadata": {},
   "source": [
    "再pandas中object是str类型也是类别类型\n",
    "某些int类型也是类别型的数据\n",
    "房屋面积是连续"
   ]
  },
  {
   "cell_type": "markdown",
   "metadata": {},
   "source": [
    "数据分析关心的因变量Y是**单位面积价格**。首先二手房的市场价格是由多个因素决定的一个结果，当前数据一共16210个样本。"
   ]
  },
  {
   "cell_type": "code",
   "execution_count": 10,
   "metadata": {},
   "outputs": [
    {
     "data": {
      "text/html": [
       "<div>\n",
       "<style scoped>\n",
       "    .dataframe tbody tr th:only-of-type {\n",
       "        vertical-align: middle;\n",
       "    }\n",
       "\n",
       "    .dataframe tbody tr th {\n",
       "        vertical-align: top;\n",
       "    }\n",
       "\n",
       "    .dataframe thead th {\n",
       "        text-align: right;\n",
       "    }\n",
       "</style>\n",
       "<table border=\"1\" class=\"dataframe\">\n",
       "  <thead>\n",
       "    <tr style=\"text-align: right;\">\n",
       "      <th></th>\n",
       "      <th>城区</th>\n",
       "      <th>卧室数</th>\n",
       "      <th>客厅数</th>\n",
       "      <th>房屋面积</th>\n",
       "      <th>楼层</th>\n",
       "      <th>是否临近地铁</th>\n",
       "      <th>是否学区房</th>\n",
       "      <th>单位面积价格</th>\n",
       "    </tr>\n",
       "  </thead>\n",
       "  <tbody>\n",
       "    <tr>\n",
       "      <td>0</td>\n",
       "      <td>朝阳</td>\n",
       "      <td>1</td>\n",
       "      <td>0</td>\n",
       "      <td>46.06</td>\n",
       "      <td>中层</td>\n",
       "      <td>1</td>\n",
       "      <td>0</td>\n",
       "      <td>48850</td>\n",
       "    </tr>\n",
       "    <tr>\n",
       "      <td>1</td>\n",
       "      <td>朝阳</td>\n",
       "      <td>1</td>\n",
       "      <td>1</td>\n",
       "      <td>59.09</td>\n",
       "      <td>中层</td>\n",
       "      <td>1</td>\n",
       "      <td>0</td>\n",
       "      <td>46540</td>\n",
       "    </tr>\n",
       "    <tr>\n",
       "      <td>2</td>\n",
       "      <td>海淀</td>\n",
       "      <td>5</td>\n",
       "      <td>2</td>\n",
       "      <td>278.95</td>\n",
       "      <td>高层</td>\n",
       "      <td>1</td>\n",
       "      <td>1</td>\n",
       "      <td>71662</td>\n",
       "    </tr>\n",
       "    <tr>\n",
       "      <td>3</td>\n",
       "      <td>海淀</td>\n",
       "      <td>3</td>\n",
       "      <td>2</td>\n",
       "      <td>207.00</td>\n",
       "      <td>高层</td>\n",
       "      <td>1</td>\n",
       "      <td>1</td>\n",
       "      <td>57972</td>\n",
       "    </tr>\n",
       "    <tr>\n",
       "      <td>4</td>\n",
       "      <td>丰台</td>\n",
       "      <td>2</td>\n",
       "      <td>1</td>\n",
       "      <td>53.32</td>\n",
       "      <td>低层</td>\n",
       "      <td>1</td>\n",
       "      <td>1</td>\n",
       "      <td>71268</td>\n",
       "    </tr>\n",
       "    <tr>\n",
       "      <td>...</td>\n",
       "      <td>...</td>\n",
       "      <td>...</td>\n",
       "      <td>...</td>\n",
       "      <td>...</td>\n",
       "      <td>...</td>\n",
       "      <td>...</td>\n",
       "      <td>...</td>\n",
       "      <td>...</td>\n",
       "    </tr>\n",
       "    <tr>\n",
       "      <td>16205</td>\n",
       "      <td>朝阳</td>\n",
       "      <td>3</td>\n",
       "      <td>1</td>\n",
       "      <td>76.33</td>\n",
       "      <td>中层</td>\n",
       "      <td>1</td>\n",
       "      <td>0</td>\n",
       "      <td>52405</td>\n",
       "    </tr>\n",
       "    <tr>\n",
       "      <td>16206</td>\n",
       "      <td>朝阳</td>\n",
       "      <td>3</td>\n",
       "      <td>1</td>\n",
       "      <td>76.42</td>\n",
       "      <td>中层</td>\n",
       "      <td>1</td>\n",
       "      <td>0</td>\n",
       "      <td>52343</td>\n",
       "    </tr>\n",
       "    <tr>\n",
       "      <td>16207</td>\n",
       "      <td>朝阳</td>\n",
       "      <td>2</td>\n",
       "      <td>1</td>\n",
       "      <td>61.79</td>\n",
       "      <td>高层</td>\n",
       "      <td>1</td>\n",
       "      <td>0</td>\n",
       "      <td>50170</td>\n",
       "    </tr>\n",
       "    <tr>\n",
       "      <td>16208</td>\n",
       "      <td>朝阳</td>\n",
       "      <td>1</td>\n",
       "      <td>1</td>\n",
       "      <td>42.89</td>\n",
       "      <td>高层</td>\n",
       "      <td>1</td>\n",
       "      <td>0</td>\n",
       "      <td>52693</td>\n",
       "    </tr>\n",
       "    <tr>\n",
       "      <td>16209</td>\n",
       "      <td>丰台</td>\n",
       "      <td>2</td>\n",
       "      <td>1</td>\n",
       "      <td>89.90</td>\n",
       "      <td>中层</td>\n",
       "      <td>1</td>\n",
       "      <td>0</td>\n",
       "      <td>46719</td>\n",
       "    </tr>\n",
       "  </tbody>\n",
       "</table>\n",
       "<p>16210 rows × 8 columns</p>\n",
       "</div>"
      ],
      "text/plain": [
       "       城区  卧室数  客厅数    房屋面积  楼层  是否临近地铁  是否学区房  单位面积价格\n",
       "0      朝阳    1    0   46.06  中层       1      0   48850\n",
       "1      朝阳    1    1   59.09  中层       1      0   46540\n",
       "2      海淀    5    2  278.95  高层       1      1   71662\n",
       "3      海淀    3    2  207.00  高层       1      1   57972\n",
       "4      丰台    2    1   53.32  低层       1      1   71268\n",
       "...    ..  ...  ...     ...  ..     ...    ...     ...\n",
       "16205  朝阳    3    1   76.33  中层       1      0   52405\n",
       "16206  朝阳    3    1   76.42  中层       1      0   52343\n",
       "16207  朝阳    2    1   61.79  高层       1      0   50170\n",
       "16208  朝阳    1    1   42.89  高层       1      0   52693\n",
       "16209  丰台    2    1   89.90  中层       1      0   46719\n",
       "\n",
       "[16210 rows x 8 columns]"
      ]
     },
     "execution_count": 10,
     "metadata": {},
     "output_type": "execute_result"
    }
   ],
   "source": [
    "bj"
   ]
  },
  {
   "cell_type": "code",
   "execution_count": 11,
   "metadata": {},
   "outputs": [
    {
     "data": {
      "text/plain": [
       "Index(['城区', '卧室数', '客厅数', '房屋面积', '楼层', '是否临近地铁', '是否学区房', '单位面积价格'], dtype='object')"
      ]
     },
     "execution_count": 11,
     "metadata": {},
     "output_type": "execute_result"
    }
   ],
   "source": [
    "bj.columns"
   ]
  },
  {
   "cell_type": "markdown",
   "metadata": {},
   "source": [
    "当前数据采样的特征一共8个,内部因素从'卧室数', '客厅数', '房屋面积', '楼层'开展研究,外部因素从 '城区','是否临近地铁', '是否学区房'开展研究。当前特征存在一些局限性,比如说可以添加'周围购物中心距离','就业中心距离','距离公园距离','医疗资源','教育资源','距离农贸市场距离','空气质量','容积率','犯罪率','噪音','建立时间','人均收入'等等其它因素。"
   ]
  },
  {
   "cell_type": "code",
   "execution_count": 12,
   "metadata": {},
   "outputs": [
    {
     "data": {
      "text/html": [
       "<div>\n",
       "<style scoped>\n",
       "    .dataframe tbody tr th:only-of-type {\n",
       "        vertical-align: middle;\n",
       "    }\n",
       "\n",
       "    .dataframe tbody tr th {\n",
       "        vertical-align: top;\n",
       "    }\n",
       "\n",
       "    .dataframe thead th {\n",
       "        text-align: right;\n",
       "    }\n",
       "</style>\n",
       "<table border=\"1\" class=\"dataframe\">\n",
       "  <thead>\n",
       "    <tr style=\"text-align: right;\">\n",
       "      <th></th>\n",
       "      <th>卧室数</th>\n",
       "      <th>客厅数</th>\n",
       "      <th>房屋面积</th>\n",
       "      <th>是否临近地铁</th>\n",
       "      <th>是否学区房</th>\n",
       "      <th>单位面积价格</th>\n",
       "    </tr>\n",
       "  </thead>\n",
       "  <tbody>\n",
       "    <tr>\n",
       "      <td>count</td>\n",
       "      <td>16210.000000</td>\n",
       "      <td>16210.000000</td>\n",
       "      <td>16210.000000</td>\n",
       "      <td>16210.000000</td>\n",
       "      <td>16210.000000</td>\n",
       "      <td>16210.000000</td>\n",
       "    </tr>\n",
       "    <tr>\n",
       "      <td>mean</td>\n",
       "      <td>2.166194</td>\n",
       "      <td>1.221407</td>\n",
       "      <td>91.746598</td>\n",
       "      <td>0.827822</td>\n",
       "      <td>0.303085</td>\n",
       "      <td>61151.810919</td>\n",
       "    </tr>\n",
       "    <tr>\n",
       "      <td>std</td>\n",
       "      <td>0.809907</td>\n",
       "      <td>0.532048</td>\n",
       "      <td>44.000768</td>\n",
       "      <td>0.377546</td>\n",
       "      <td>0.459606</td>\n",
       "      <td>22293.358147</td>\n",
       "    </tr>\n",
       "    <tr>\n",
       "      <td>min</td>\n",
       "      <td>1.000000</td>\n",
       "      <td>0.000000</td>\n",
       "      <td>30.060000</td>\n",
       "      <td>0.000000</td>\n",
       "      <td>0.000000</td>\n",
       "      <td>18348.000000</td>\n",
       "    </tr>\n",
       "    <tr>\n",
       "      <td>25%</td>\n",
       "      <td>2.000000</td>\n",
       "      <td>1.000000</td>\n",
       "      <td>60.000000</td>\n",
       "      <td>1.000000</td>\n",
       "      <td>0.000000</td>\n",
       "      <td>42812.250000</td>\n",
       "    </tr>\n",
       "    <tr>\n",
       "      <td>50%</td>\n",
       "      <td>2.000000</td>\n",
       "      <td>1.000000</td>\n",
       "      <td>78.830000</td>\n",
       "      <td>1.000000</td>\n",
       "      <td>0.000000</td>\n",
       "      <td>57473.000000</td>\n",
       "    </tr>\n",
       "    <tr>\n",
       "      <td>75%</td>\n",
       "      <td>3.000000</td>\n",
       "      <td>2.000000</td>\n",
       "      <td>110.517500</td>\n",
       "      <td>1.000000</td>\n",
       "      <td>1.000000</td>\n",
       "      <td>76099.750000</td>\n",
       "    </tr>\n",
       "    <tr>\n",
       "      <td>max</td>\n",
       "      <td>5.000000</td>\n",
       "      <td>3.000000</td>\n",
       "      <td>299.000000</td>\n",
       "      <td>1.000000</td>\n",
       "      <td>1.000000</td>\n",
       "      <td>149871.000000</td>\n",
       "    </tr>\n",
       "  </tbody>\n",
       "</table>\n",
       "</div>"
      ],
      "text/plain": [
       "                卧室数           客厅数          房屋面积        是否临近地铁         是否学区房  \\\n",
       "count  16210.000000  16210.000000  16210.000000  16210.000000  16210.000000   \n",
       "mean       2.166194      1.221407     91.746598      0.827822      0.303085   \n",
       "std        0.809907      0.532048     44.000768      0.377546      0.459606   \n",
       "min        1.000000      0.000000     30.060000      0.000000      0.000000   \n",
       "25%        2.000000      1.000000     60.000000      1.000000      0.000000   \n",
       "50%        2.000000      1.000000     78.830000      1.000000      0.000000   \n",
       "75%        3.000000      2.000000    110.517500      1.000000      1.000000   \n",
       "max        5.000000      3.000000    299.000000      1.000000      1.000000   \n",
       "\n",
       "              单位面积价格  \n",
       "count   16210.000000  \n",
       "mean    61151.810919  \n",
       "std     22293.358147  \n",
       "min     18348.000000  \n",
       "25%     42812.250000  \n",
       "50%     57473.000000  \n",
       "75%     76099.750000  \n",
       "max    149871.000000  "
      ]
     },
     "execution_count": 12,
     "metadata": {},
     "output_type": "execute_result"
    }
   ],
   "source": [
    "bj.describe()"
   ]
  },
  {
   "cell_type": "code",
   "execution_count": 13,
   "metadata": {},
   "outputs": [
    {
     "data": {
      "text/plain": [
       "(array([1, 5, 3, 2, 4]), array([0, 1, 2, 3]), (299.0, 30.06))"
      ]
     },
     "execution_count": 13,
     "metadata": {},
     "output_type": "execute_result"
    }
   ],
   "source": [
    "#检测类别值\n",
    "bj.卧室数.unique(),bj.客厅数.unique(),(bj.房屋面积.max(),bj.房屋面积.min())"
   ]
  },
  {
   "cell_type": "code",
   "execution_count": 8,
   "metadata": {},
   "outputs": [
    {
     "data": {
      "text/plain": [
       "array(['朝阳', '海淀', '丰台', '西城', '东城', '石景山'], dtype=object)"
      ]
     },
     "execution_count": 8,
     "metadata": {},
     "output_type": "execute_result"
    }
   ],
   "source": [
    "bj.城区.unique()"
   ]
  },
  {
   "cell_type": "markdown",
   "metadata": {},
   "source": [
    "从以上数据中可以获取再本平台售卖的二手房屋信息如下:\n",
    "- 卧室数量1-5个之间\n",
    "- 客厅数量0-3个之间\n",
    "- 房屋面积再30-299平方之间\n",
    "- 是否邻近地铁\n",
    "    - 1 邻近\n",
    "    - 0 不邻近\n",
    "    - 售卖的房源中有82.78%都是邻近地铁的\n",
    "- 是否学区房\n",
    "    - 1 是\n",
    "    - 0 否\n",
    "    - 售卖的房源中有30.3%都是学区房,学区房资源比较稀少\n",
    "- 分区城区主要是'朝阳', '海淀', '丰台', '西城', '东城', '石景山'六个区域。"
   ]
  },
  {
   "cell_type": "markdown",
   "metadata": {},
   "source": [
    "### 二手房价格分布"
   ]
  },
  {
   "cell_type": "code",
   "execution_count": 21,
   "metadata": {
    "scrolled": true
   },
   "outputs": [
    {
     "data": {
      "text/plain": [
       "<matplotlib.axes._subplots.AxesSubplot at 0x1a1b106bd0>"
      ]
     },
     "execution_count": 21,
     "metadata": {},
     "output_type": "execute_result"
    },
    {
     "data": {
      "image/png": "[encoded data removed]",
      "text/plain": [
       "<Figure size 576x288 with 1 Axes>"
      ]
     },
     "metadata": {},
     "output_type": "display_data"
    }
   ],
   "source": [
    "plt.rcParams['font.family'] = ['Arial Unicode MS'] \n",
    "sns.distplot(a=bj.单位面积价格,kde=False,bins=10)"
   ]
  },
  {
   "cell_type": "code",
   "execution_count": 18,
   "metadata": {
    "scrolled": true
   },
   "outputs": [
    {
     "data": {
      "text/html": [
       "<div>\n",
       "<style scoped>\n",
       "    .dataframe tbody tr th:only-of-type {\n",
       "        vertical-align: middle;\n",
       "    }\n",
       "\n",
       "    .dataframe tbody tr th {\n",
       "        vertical-align: top;\n",
       "    }\n",
       "\n",
       "    .dataframe thead th {\n",
       "        text-align: right;\n",
       "    }\n",
       "</style>\n",
       "<table border=\"1\" class=\"dataframe\">\n",
       "  <thead>\n",
       "    <tr style=\"text-align: right;\">\n",
       "      <th></th>\n",
       "      <th>城区</th>\n",
       "      <th>卧室数</th>\n",
       "      <th>客厅数</th>\n",
       "      <th>房屋面积</th>\n",
       "      <th>楼层</th>\n",
       "      <th>是否临近地铁</th>\n",
       "      <th>是否学区房</th>\n",
       "      <th>单位面积价格</th>\n",
       "    </tr>\n",
       "  </thead>\n",
       "  <tbody>\n",
       "    <tr>\n",
       "      <th>2738</th>\n",
       "      <td>丰台</td>\n",
       "      <td>2</td>\n",
       "      <td>2</td>\n",
       "      <td>100.83</td>\n",
       "      <td>高层</td>\n",
       "      <td>0</td>\n",
       "      <td>0</td>\n",
       "      <td>18348</td>\n",
       "    </tr>\n",
       "  </tbody>\n",
       "</table>\n",
       "</div>"
      ],
      "text/plain": [
       "      城区  卧室数  客厅数    房屋面积  楼层  是否临近地铁  是否学区房  单位面积价格\n",
       "2738  丰台    2    2  100.83  高层       0      0   18348"
      ]
     },
     "execution_count": 18,
     "metadata": {},
     "output_type": "execute_result"
    }
   ],
   "source": [
    "#获取单位面积价格的最低房价的房屋信息\n",
    "min_prcie = bj.单位面积价格.min()\n",
    "\n",
    "#python3.7 \n",
    "min_price_info = bj.query(f\"单位面积价格=={min_prcie}\")\n",
    "min_price_info"
   ]
  },
  {
   "cell_type": "code",
   "execution_count": 19,
   "metadata": {},
   "outputs": [
    {
     "data": {
      "text/plain": [
       "2738    1850028.84\n",
       "dtype: float64"
      ]
     },
     "execution_count": 19,
     "metadata": {},
     "output_type": "execute_result"
    }
   ],
   "source": [
    "#房产总价\n",
    "min_price_info.房屋面积 * min_price_info.单位面积价格"
   ]
  },
  {
   "cell_type": "code",
   "execution_count": 20,
   "metadata": {},
   "outputs": [
    {
     "data": {
      "text/html": [
       "<div>\n",
       "<style scoped>\n",
       "    .dataframe tbody tr th:only-of-type {\n",
       "        vertical-align: middle;\n",
       "    }\n",
       "\n",
       "    .dataframe tbody tr th {\n",
       "        vertical-align: top;\n",
       "    }\n",
       "\n",
       "    .dataframe thead th {\n",
       "        text-align: right;\n",
       "    }\n",
       "</style>\n",
       "<table border=\"1\" class=\"dataframe\">\n",
       "  <thead>\n",
       "    <tr style=\"text-align: right;\">\n",
       "      <th></th>\n",
       "      <th>城区</th>\n",
       "      <th>卧室数</th>\n",
       "      <th>客厅数</th>\n",
       "      <th>房屋面积</th>\n",
       "      <th>楼层</th>\n",
       "      <th>是否临近地铁</th>\n",
       "      <th>是否学区房</th>\n",
       "      <th>单位面积价格</th>\n",
       "    </tr>\n",
       "  </thead>\n",
       "  <tbody>\n",
       "    <tr>\n",
       "      <th>12788</th>\n",
       "      <td>西城</td>\n",
       "      <td>3</td>\n",
       "      <td>1</td>\n",
       "      <td>77.4</td>\n",
       "      <td>低层</td>\n",
       "      <td>1</td>\n",
       "      <td>0</td>\n",
       "      <td>149871</td>\n",
       "    </tr>\n",
       "  </tbody>\n",
       "</table>\n",
       "</div>"
      ],
      "text/plain": [
       "       城区  卧室数  客厅数  房屋面积  楼层  是否临近地铁  是否学区房  单位面积价格\n",
       "12788  西城    3    1  77.4  低层       1      0  149871"
      ]
     },
     "execution_count": 20,
     "metadata": {},
     "output_type": "execute_result"
    }
   ],
   "source": [
    "#获取单位面积价格的最高房价的房屋信息\n",
    "max_prcie = bj.单位面积价格.max()\n",
    "\n",
    "#python3.7 \n",
    "max_price_info = bj.query(f\"单位面积价格=={max_prcie}\")\n",
    "max_price_info"
   ]
  },
  {
   "cell_type": "code",
   "execution_count": 21,
   "metadata": {
    "scrolled": true
   },
   "outputs": [
    {
     "data": {
      "text/plain": [
       "12788    11600015.4\n",
       "dtype: float64"
      ]
     },
     "execution_count": 21,
     "metadata": {},
     "output_type": "execute_result"
    }
   ],
   "source": [
    "#房产总价\n",
    "max_price_info.房屋面积 * max_price_info.单位面积价格"
   ]
  },
  {
   "cell_type": "markdown",
   "metadata": {},
   "source": [
    "当前数据中价格最低的是**丰台区**,面积**100.83**平方米,套型**两室两厅**,单位面积价格**18,348**元/平方米,总价格**1,850,028.84**元人名币。\n",
    "\n",
    "当前数据中价格最高的是**西城区**,面积**77.4**平方米,套型**三室一厅**,单位面积价格**149,871**元/平方米,总价格**11,600,015.4**元人名币。"
   ]
  },
  {
   "cell_type": "markdown",
   "metadata": {},
   "source": [
    "### 描述性分析"
   ]
  },
  {
   "cell_type": "code",
   "execution_count": 26,
   "metadata": {},
   "outputs": [
    {
     "data": {
      "text/plain": [
       "<matplotlib.axes._subplots.AxesSubplot at 0x1eaa25eeba8>"
      ]
     },
     "execution_count": 26,
     "metadata": {},
     "output_type": "execute_result"
    },
    {
     "data": {
      "image/png": "[encoded data removed]",
      "text/plain": [
       "<Figure size 1296x432 with 3 Axes>"
      ]
     },
     "metadata": {
      "needs_background": "light"
     },
     "output_type": "display_data"
    }
   ],
   "source": [
    "#内部因素是否影响房价\n",
    "fig,(ax1,ax2,ax3) = plt.subplots(nrows=1,ncols=3,figsize=(3*6,6))\n",
    "#卧室数量和房价差异\n",
    "sns.boxplot(x='卧室数',y='单位面积价格',data=bj,ax=ax1,palette='hls')\n",
    "#客厅数量和房价差异\n",
    "sns.boxplot(x='客厅数',y='单位面积价格',data=bj,ax=ax2,palette='cool')\n",
    "#楼层和房价差异\n",
    "sns.boxplot(x='楼层',y='单位面积价格',data=bj,ax=ax3,palette='autumn')"
   ]
  },
  {
   "cell_type": "markdown",
   "metadata": {},
   "source": [
    "从内部因素中可以观察出,单位面积房价受到\"卧室数\",\"客厅数\",\"楼层\"的影响并不显著。"
   ]
  },
  {
   "cell_type": "code",
   "execution_count": 27,
   "metadata": {},
   "outputs": [
    {
     "data": {
      "text/plain": [
       "Index(['城区', '卧室数', '客厅数', '房屋面积', '楼层', '是否临近地铁', '是否学区房', '单位面积价格'], dtype='object')"
      ]
     },
     "execution_count": 27,
     "metadata": {},
     "output_type": "execute_result"
    }
   ],
   "source": [
    "bj.columns"
   ]
  },
  {
   "cell_type": "code",
   "execution_count": 30,
   "metadata": {},
   "outputs": [
    {
     "data": {
      "text/html": [
       "<div>\n",
       "<style scoped>\n",
       "    .dataframe tbody tr th:only-of-type {\n",
       "        vertical-align: middle;\n",
       "    }\n",
       "\n",
       "    .dataframe tbody tr th {\n",
       "        vertical-align: top;\n",
       "    }\n",
       "\n",
       "    .dataframe thead th {\n",
       "        text-align: right;\n",
       "    }\n",
       "</style>\n",
       "<table border=\"1\" class=\"dataframe\">\n",
       "  <thead>\n",
       "    <tr style=\"text-align: right;\">\n",
       "      <th></th>\n",
       "      <th>城区</th>\n",
       "      <th>卧室数</th>\n",
       "      <th>客厅数</th>\n",
       "      <th>房屋面积</th>\n",
       "      <th>楼层</th>\n",
       "      <th>是否临近地铁</th>\n",
       "      <th>是否学区房</th>\n",
       "      <th>单位面积价格</th>\n",
       "      <th>总价格</th>\n",
       "    </tr>\n",
       "  </thead>\n",
       "  <tbody>\n",
       "    <tr>\n",
       "      <th>0</th>\n",
       "      <td>朝阳</td>\n",
       "      <td>1</td>\n",
       "      <td>0</td>\n",
       "      <td>46.06</td>\n",
       "      <td>中层</td>\n",
       "      <td>1</td>\n",
       "      <td>0</td>\n",
       "      <td>48850</td>\n",
       "      <td>2250031.0</td>\n",
       "    </tr>\n",
       "    <tr>\n",
       "      <th>1</th>\n",
       "      <td>朝阳</td>\n",
       "      <td>1</td>\n",
       "      <td>1</td>\n",
       "      <td>59.09</td>\n",
       "      <td>中层</td>\n",
       "      <td>1</td>\n",
       "      <td>0</td>\n",
       "      <td>46540</td>\n",
       "      <td>2750048.6</td>\n",
       "    </tr>\n",
       "  </tbody>\n",
       "</table>\n",
       "</div>"
      ],
      "text/plain": [
       "   城区  卧室数  客厅数   房屋面积  楼层  是否临近地铁  是否学区房  单位面积价格        总价格\n",
       "0  朝阳    1    0  46.06  中层       1      0   48850  2250031.0\n",
       "1  朝阳    1    1  59.09  中层       1      0   46540  2750048.6"
      ]
     },
     "execution_count": 30,
     "metadata": {},
     "output_type": "execute_result"
    }
   ],
   "source": [
    "bj['总价格'] = bj.房屋面积 * bj.单位面积价格\n",
    "bj.head(2)"
   ]
  },
  {
   "cell_type": "markdown",
   "metadata": {},
   "source": [
    "### 查看房价和面积之间的关系"
   ]
  },
  {
   "cell_type": "code",
   "execution_count": 31,
   "metadata": {},
   "outputs": [
    {
     "data": {
      "text/html": [
       "<div>\n",
       "<style scoped>\n",
       "    .dataframe tbody tr th:only-of-type {\n",
       "        vertical-align: middle;\n",
       "    }\n",
       "\n",
       "    .dataframe tbody tr th {\n",
       "        vertical-align: top;\n",
       "    }\n",
       "\n",
       "    .dataframe thead th {\n",
       "        text-align: right;\n",
       "    }\n",
       "</style>\n",
       "<table border=\"1\" class=\"dataframe\">\n",
       "  <thead>\n",
       "    <tr style=\"text-align: right;\">\n",
       "      <th></th>\n",
       "      <th>城区</th>\n",
       "      <th>卧室数</th>\n",
       "      <th>客厅数</th>\n",
       "      <th>房屋面积</th>\n",
       "      <th>楼层</th>\n",
       "      <th>是否临近地铁</th>\n",
       "      <th>是否学区房</th>\n",
       "      <th>单位面积价格</th>\n",
       "      <th>总价格</th>\n",
       "      <th>面积分组</th>\n",
       "    </tr>\n",
       "  </thead>\n",
       "  <tbody>\n",
       "    <tr>\n",
       "      <th>0</th>\n",
       "      <td>朝阳</td>\n",
       "      <td>1</td>\n",
       "      <td>0</td>\n",
       "      <td>46.06</td>\n",
       "      <td>中层</td>\n",
       "      <td>1</td>\n",
       "      <td>0</td>\n",
       "      <td>48850</td>\n",
       "      <td>2250031.0</td>\n",
       "      <td>(30, 60]</td>\n",
       "    </tr>\n",
       "    <tr>\n",
       "      <th>1</th>\n",
       "      <td>朝阳</td>\n",
       "      <td>1</td>\n",
       "      <td>1</td>\n",
       "      <td>59.09</td>\n",
       "      <td>中层</td>\n",
       "      <td>1</td>\n",
       "      <td>0</td>\n",
       "      <td>46540</td>\n",
       "      <td>2750048.6</td>\n",
       "      <td>(30, 60]</td>\n",
       "    </tr>\n",
       "  </tbody>\n",
       "</table>\n",
       "</div>"
      ],
      "text/plain": [
       "   城区  卧室数  客厅数   房屋面积  楼层  是否临近地铁  是否学区房  单位面积价格        总价格      面积分组\n",
       "0  朝阳    1    0  46.06  中层       1      0   48850  2250031.0  (30, 60]\n",
       "1  朝阳    1    1  59.09  中层       1      0   46540  2750048.6  (30, 60]"
      ]
     },
     "execution_count": 31,
     "metadata": {},
     "output_type": "execute_result"
    }
   ],
   "source": [
    "#设置一个分箱规则\n",
    "bins = [30,60,90,120,180,300]\n",
    "bj['面积分组'] = pd.cut(bj.房屋面积,bins)\n",
    "bj.head(2)"
   ]
  },
  {
   "cell_type": "code",
   "execution_count": 36,
   "metadata": {},
   "outputs": [
    {
     "data": {
      "text/plain": [
       "<matplotlib.axes._subplots.AxesSubplot at 0x1eaa4a8f3c8>"
      ]
     },
     "execution_count": 36,
     "metadata": {},
     "output_type": "execute_result"
    },
    {
     "data": {
      "image/png": "[encoded data removed]",
      "text/plain": [
       "<Figure size 864x432 with 2 Axes>"
      ]
     },
     "metadata": {
      "needs_background": "light"
     },
     "output_type": "display_data"
    }
   ],
   "source": [
    "fig,(ax1,ax2) = plt.subplots(ncols=2,figsize=(12,6))\n",
    "sns.boxplot(data=bj,x='面积分组',y='单位面积价格',ax=ax1,palette='hls')\n",
    "sns.boxplot(data=bj,x='面积分组',y='总价格',ax=ax2,palette='hls')"
   ]
  },
  {
   "cell_type": "markdown",
   "metadata": {},
   "source": [
    "房产的总价和面积关系非常显著。"
   ]
  },
  {
   "cell_type": "markdown",
   "metadata": {},
   "source": [
    "### 外部因素\n",
    "\n",
    "区域和价格"
   ]
  },
  {
   "cell_type": "code",
   "execution_count": 41,
   "metadata": {},
   "outputs": [
    {
     "data": {
      "text/plain": [
       "<matplotlib.axes._subplots.AxesSubplot at 0x1eaa4c5c780>"
      ]
     },
     "execution_count": 41,
     "metadata": {},
     "output_type": "execute_result"
    },
    {
     "data": {
      "image/png": "[encoded data removed]",
      "text/plain": [
       "<Figure size 720x432 with 1 Axes>"
      ]
     },
     "metadata": {
      "needs_background": "light"
     },
     "output_type": "display_data"
    }
   ],
   "source": [
    "plt.figure(figsize=(10,6))\n",
    "sns.boxplot(data=bj,x='城区',y='单位面积价格',palette='hls')"
   ]
  },
  {
   "cell_type": "markdown",
   "metadata": {},
   "source": [
    "不同区域对房子单位面积价格的影响比较显著,城区价格偏高,丰台和石景山价格偏低"
   ]
  },
  {
   "cell_type": "markdown",
   "metadata": {},
   "source": [
    "地铁和学校对房价的影响"
   ]
  },
  {
   "cell_type": "code",
   "execution_count": 11,
   "metadata": {},
   "outputs": [
    {
     "data": {
      "text/plain": [
       "<matplotlib.axes._subplots.AxesSubplot at 0x1a1d8c40d0>"
      ]
     },
     "execution_count": 11,
     "metadata": {},
     "output_type": "execute_result"
    },
    {
     "data": {
      "image/png": "[encoded data removed]",
      "text/plain": [
       "<Figure size 864x432 with 2 Axes>"
      ]
     },
     "metadata": {
      "needs_background": "light"
     },
     "output_type": "display_data"
    }
   ],
   "source": [
    "fig,(ax1,ax2) = plt.subplots(ncols=2,figsize=(12,6))#\n",
    "sns.boxplot(data=bj,x='是否临近地铁',y='单位面积价格',ax=ax1,palette='hls')\n",
    "sns.boxplot(data=bj,x='是否学区房',y='单位面积价格',ax=ax2,palette='hls')"
   ]
  },
  {
   "cell_type": "markdown",
   "metadata": {},
   "source": [
    "地铁房和学区房的价格比其它的区域偏高\n",
    "\n",
    "综上所述,外部因素比内部因素对单位面积价格更加具有影响性"
   ]
  },
  {
   "cell_type": "markdown",
   "metadata": {},
   "source": [
    "### 以石景山的价格为基准,计算其它区域价格高出比例"
   ]
  },
  {
   "cell_type": "code",
   "execution_count": 12,
   "metadata": {},
   "outputs": [],
   "source": [
    "sjs_total = bj.query(\"城区 == '石景山'\").单位面积价格\n",
    "ft_total = bj.query(\"城区 == '丰台'\").单位面积价格\n",
    "cy_total = bj.query(\"城区 == '朝阳'\").单位面积价格\n",
    "dc_total = bj.query(\"城区 == '东城'\").单位面积价格\n",
    "xc_total = bj.query(\"城区 == '西城'\").单位面积价格\n",
    "hd_total = bj.query(\"城区 == '海淀'\").单位面积价格"
   ]
  },
  {
   "cell_type": "code",
   "execution_count": 13,
   "metadata": {
    "scrolled": true
   },
   "outputs": [
    {
     "name": "stdout",
     "output_type": "stream",
     "text": [
      "1.0549562093075882\n",
      "1.310615567733059\n",
      "1.7842925031433456\n",
      "2.1266168585369747\n",
      "1.7066992013682074\n"
     ]
    }
   ],
   "source": [
    "#丰台\n",
    "print(ft_total.mean() / sjs_total.mean())\n",
    "#朝阳\n",
    "print(cy_total.mean() / sjs_total.mean())\n",
    "#东城\n",
    "print(dc_total.mean() / sjs_total.mean())\n",
    "#西城\n",
    "print(xc_total.mean() / sjs_total.mean())\n",
    "#海淀\n",
    "print(hd_total.mean() / sjs_total.mean())"
   ]
  },
  {
   "cell_type": "markdown",
   "metadata": {},
   "source": [
    "以石景山的单位面积价格为基准：\n",
    "- 丰台的平均单位房价的差距系数是1.055,价格最接近\n",
    "- 西城的平均单位房价的差距系数是2.127,价格差距最大"
   ]
  },
  {
   "cell_type": "markdown",
   "metadata": {},
   "source": [
    "### 预测需求如下\n",
    "\n",
    "- 现有一户人家需要为孩子在海淀准备一套学区房,85平米两室两厅,临近地铁,楼层需要高层,那么每平方需要多少钱,大约总共需要花费多少钱。"
   ]
  },
  {
   "cell_type": "markdown",
   "metadata": {},
   "source": [
    "##### 回归\n",
    "- 线性回归\n",
    "    - 小二乘回归\n",
    "    - 随机批量梯度下降\n",
    "    - 岭回归\n",
    "    - 拉索回归\n",
    "    - 戴明函数回归\n",
    "    - 奇异值分解回归\n",
    "    - 弹性网回归\n",
    "- 零一回归\n",
    "    - 对数回归\n",
    "- 生存回归\n",
    "    - 电灯泡，用多少长时间\n",
    "- 计数回归\n",
    "    - Y是整数,根据时序计数的\n",
    "- 定序回归\n",
    "    - 分类的类别开始变多\n",
    "- 交叉回归\n",
    "    - 对于类别型数据的回归方式\n",
    "- 均值回归\n",
    "    - 最近的数据的平均值"
   ]
  },
  {
   "cell_type": "code",
   "execution_count": 17,
   "metadata": {},
   "outputs": [],
   "source": [
    "from sklearn.tree import DecisionTreeRegressor\n",
    "from sklearn.ensemble import GradientBoostingRegressor\n",
    "from sklearn.model_selection import GridSearchCV\n",
    "from sklearn.metrics import mean_squared_error"
   ]
  },
  {
   "cell_type": "code",
   "execution_count": 18,
   "metadata": {},
   "outputs": [],
   "source": [
    "data = bj.copy()"
   ]
  },
  {
   "cell_type": "code",
   "execution_count": 19,
   "metadata": {},
   "outputs": [],
   "source": [
    "object_col = data.select_dtypes(include=['object']).columns\n",
    "\n",
    "for c in object_col:\n",
    "    data[c]=data[c].astype('category').cat.codes"
   ]
  },
  {
   "cell_type": "code",
   "execution_count": 20,
   "metadata": {},
   "outputs": [],
   "source": [
    "features = data.loc[:,['城区','是否临近地铁','是否学区房']]\n",
    "labels = data.loc[:,['单位面积价格']]"
   ]
  },
  {
   "cell_type": "code",
   "execution_count": 23,
   "metadata": {},
   "outputs": [],
   "source": [
    "#CART二分类树 gini不纯度  熵\n",
    "estimator=GradientBoostingRegressor()\n",
    "#先打印树状图,n-1是深度   \n",
    "param_grid = {\"max_depth\":[1,2,3,4,5,6,7],'min_samples_leaf':[4,5,6,7,8,9,10]}\n",
    "gc = GridSearchCV(estimator,param_grid,cv=4,n_jobs=12).fit(features,labels)\n"
   ]
  },
  {
   "cell_type": "code",
   "execution_count": 24,
   "metadata": {
    "scrolled": true
   },
   "outputs": [
    {
     "data": {
      "text/plain": [
       "0.5975590270744588"
      ]
     },
     "execution_count": 24,
     "metadata": {},
     "output_type": "execute_result"
    }
   ],
   "source": [
    "gc.score(features,labels)"
   ]
  },
  {
   "cell_type": "code",
   "execution_count": 25,
   "metadata": {},
   "outputs": [],
   "source": [
    "y_pred = gc.best_estimator_.predict(features)\n"
   ]
  },
  {
   "cell_type": "code",
   "execution_count": 26,
   "metadata": {},
   "outputs": [
    {
     "data": {
      "text/plain": [
       "14142.076817963258"
      ]
     },
     "execution_count": 26,
     "metadata": {},
     "output_type": "execute_result"
    }
   ],
   "source": [
    "#RMSE  均方误差  \n",
    "np.sqrt(mean_squared_error(labels,y_pred))"
   ]
  },
  {
   "cell_type": "markdown",
   "metadata": {},
   "source": [
    "BI准确度低是常态,准确度太高是变态"
   ]
  },
  {
   "cell_type": "code",
   "execution_count": 27,
   "metadata": {},
   "outputs": [
    {
     "data": {
      "text/plain": [
       "(array(['朝阳', '海淀', '丰台', '西城', '东城', '石景山'], dtype=object),\n",
       " array([2, 3, 1, 5, 0, 4]))"
      ]
     },
     "execution_count": 27,
     "metadata": {},
     "output_type": "execute_result"
    }
   ],
   "source": [
    "bj.城区.unique(),bj.城区.astype('category').cat.codes.unique()"
   ]
  },
  {
   "cell_type": "code",
   "execution_count": 28,
   "metadata": {},
   "outputs": [
    {
     "data": {
      "text/plain": [
       "array([78749.62647352])"
      ]
     },
     "execution_count": 28,
     "metadata": {},
     "output_type": "execute_result"
    }
   ],
   "source": [
    "X_test = [[3,1,1]]\n",
    "#光华管理学院统计学研究中心  93000元\n",
    "gc.best_estimator_.predict(X_test)"
   ]
  },
  {
   "cell_type": "markdown",
   "metadata": {},
   "source": [
    "- 会员整体指标\n",
    "- 会员营销指标\n",
    "- 会员活跃度检测\n",
    "- 会员价值检测\n",
    "- 会员异常指标\n",
    "\n",
    "- 商品的库存\n",
    "- 销售预测\n",
    "- 市场分析\n",
    "- 促销分析\n",
    "\n",
    "- 站内流量\n",
    "- 站外流量"
   ]
  },
  {
   "cell_type": "markdown",
   "metadata": {},
   "source": [
    "'工业'分析"
   ]
  },
  {
   "cell_type": "code",
   "execution_count": 7,
   "metadata": {},
   "outputs": [
    {
     "data": {
      "image/png": "[encoded data removed]",
      "text/plain": [
       "<Figure size 432x288 with 4 Axes>"
      ]
     },
     "execution_count": 7,
     "metadata": {},
     "output_type": "execute_result"
    }
   ],
   "source": [
    "t=np.arange(0.0,2.0,0.1)\n",
    "s=np.sin(t*np.pi)\n",
    "#figure,ax=plt.subplots(2,2)\n",
    "ax[0][0].plot(t,s,'r*')\n",
    "ax[0][1].plot(t*2,s,'b--')\n",
    "figure"
   ]
  }
 ],
 "metadata": {
  "kernelspec": {
   "display_name": "Python 3",
   "language": "python",
   "name": "python3"
  },
  "language_info": {
   "codemirror_mode": {
    "name": "ipython",
    "version": 3
   },
   "file_extension": ".py",
   "mimetype": "text/x-python",
   "name": "python",
   "nbconvert_exporter": "python",
   "pygments_lexer": "ipython3",
   "version": "3.7.4"
  }
 },
 "nbformat": 4,
 "nbformat_minor": 2
}
